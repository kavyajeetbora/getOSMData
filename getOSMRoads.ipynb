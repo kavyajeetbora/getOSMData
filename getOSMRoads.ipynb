{
 "cells": [
  {
   "cell_type": "code",
   "execution_count": 1,
   "metadata": {},
   "outputs": [],
   "source": [
    "from ipyleaflet import Map, DrawControl, GeoJSON, WidgetControl, basemaps\n",
    "from ipywidgets import HTML, Layout\n",
    "import shapely\n",
    "import osmnx as ox\n",
    "import json"
   ]
  },
  {
   "cell_type": "code",
   "execution_count": 2,
   "metadata": {},
   "outputs": [],
   "source": [
    "class RoadMap(Map):\n",
    "    def __init__(self, center):\n",
    "        super().__init__(center = center, zoom=10, scroll_wheel_zoom=True, layout=Layout(width='100%', height='1000px'))\n",
    "        self.dc = DrawControl()\n",
    "        self.dc.on_draw(self.handle_draw)\n",
    "        self.add_control(self.dc)\n",
    "\n",
    "    def update_html(self, feature, **kwargs):\n",
    "\n",
    "        html1 = HTML('''\n",
    "            Hover over a road\n",
    "        ''')\n",
    "        html1.layout.margin = \"0px 20px 20px 0px\"\n",
    "        control1 = WidgetControl(widget=html1, position='bottomright')\n",
    "        self.controls = tuple(list(self.controls)[:-1]) ## Remove the last control before adding new control to the map\n",
    "        self.add_control(control = control1)\n",
    "\n",
    "        html1.value = '''\n",
    "            <p>Street Type: {}</p>\n",
    "            <p>Length: {:.2f}</p>\n",
    "        '''.format(feature['properties']['highway'], feature['properties']['length'])\n",
    "\n",
    "    def handle_draw(self, target, action, geo_json):\n",
    "        geometry = geo_json['geometry']\n",
    "        if geometry['type'] == \"Polygon\":\n",
    "            print(\"Valid Geometry\")\n",
    "            area = shapely.geometry.Polygon(geometry['coordinates'][0])\n",
    "\n",
    "            try:\n",
    "                network = ox.graph.graph_from_polygon(area)\n",
    "                # ox.plot_graph(network)\n",
    "\n",
    "                nodes, roads = ox.graph_to_gdfs(network)\n",
    "                roads = roads.reset_index()\n",
    "\n",
    "                if roads.shape[0]>0:\n",
    "\n",
    "                    roads_json = json.loads(roads.to_json(drop_id=True))\n",
    "                    geojson_layer = GeoJSON(data = roads_json, name='Roads', hover_style={'fillColor': 'red', 'fillOpacity': 0.5})\n",
    "                    geojson_layer.on_hover(self.update_html)\n",
    "                    self.add_layer(layer = geojson_layer)\n",
    "                else:\n",
    "                    print(\"Area too small or no roads founds within the specified area\")\n",
    "\n",
    "            except Exception as e:\n",
    "                print(e)\n",
    "        else:\n",
    "            print(\"The application doesnot work with point/line features\")"
   ]
  },
  {
   "cell_type": "code",
   "execution_count": 3,
   "metadata": {},
   "outputs": [
    {
     "data": {
      "application/vnd.jupyter.widget-view+json": {
       "model_id": "983c0e0f999a46c49d4c1b5c09849aa0",
       "version_major": 2,
       "version_minor": 0
      },
      "text/plain": [
       "RoadMap(center=[28.7041, 77.1025], controls=(ZoomControl(options=['position', 'zoom_in_text', 'zoom_in_title',…"
      ]
     },
     "metadata": {},
     "output_type": "display_data"
    },
    {
     "name": "stdout",
     "output_type": "stream",
     "text": [
      "Valid Geometry\n"
     ]
    }
   ],
   "source": [
    "imap = RoadMap(center=(28.7041, 77.1025))\n",
    "imap"
   ]
  }
 ],
 "metadata": {
  "kernelspec": {
   "display_name": "osm-env",
   "language": "python",
   "name": "python3"
  },
  "language_info": {
   "codemirror_mode": {
    "name": "ipython",
    "version": 3
   },
   "file_extension": ".py",
   "mimetype": "text/x-python",
   "name": "python",
   "nbconvert_exporter": "python",
   "pygments_lexer": "ipython3",
   "version": "3.12.0"
  },
  "orig_nbformat": 4
 },
 "nbformat": 4,
 "nbformat_minor": 2
}
